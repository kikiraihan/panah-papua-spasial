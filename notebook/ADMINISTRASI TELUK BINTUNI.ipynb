{
 "cells": [
  {
   "cell_type": "code",
   "execution_count": 18,
   "metadata": {},
   "outputs": [],
   "source": [
    "import json\n",
    "import geopandas as gpd\n",
    "from shapely.geometry import MultiPoint\n",
    "import plotly.express as px\n",
    "import random\n",
    "import folium\n",
    "import folium.plugins as plugins\n",
    "from shapely.geometry import MultiPoint"
   ]
  },
  {
   "cell_type": "code",
   "execution_count": 19,
   "metadata": {},
   "outputs": [
    {
     "name": "stderr",
     "output_type": "stream",
     "text": [
      "/var/folders/b9/v73gyxys1djbgjy3c8c3cfwm0000gn/T/ipykernel_55075/1426966402.py:10: UserWarning: Geometry is in a geographic CRS. Results from 'centroid' are likely incorrect. Use 'GeoSeries.to_crs()' to re-project geometries to a projected CRS before this operation.\n",
      "\n",
      "  admin_gdf['centroid_latitude'] = admin_gdf['geometry'].centroid.y\n",
      "/var/folders/b9/v73gyxys1djbgjy3c8c3cfwm0000gn/T/ipykernel_55075/1426966402.py:11: UserWarning: Geometry is in a geographic CRS. Results from 'centroid' are likely incorrect. Use 'GeoSeries.to_crs()' to re-project geometries to a projected CRS before this operation.\n",
      "\n",
      "  admin_gdf['centroid_longitude'] = admin_gdf['geometry'].centroid.x\n"
     ]
    }
   ],
   "source": [
    "# geojson data\n",
    "admin_shp_path ='../data/SHP/Administrasi.shp'\n",
    "# GeoDataFrame\n",
    "admin_gdf = gpd.read_file(admin_shp_path)\n",
    "# projected_crs = 'EPSG:4326' #Untuk sistem referensi koordinat WGS 84 (geografi):\n",
    "# projected_crs = 'EPSG:32648' #Untuk Universal Transverse Mercator (UTM) Zone 48S (tergantung pada zona UTM yang diinginkan):\n",
    "# projected_crs = 'EPSG:3857' #Untuk Web Mercator (digunakan oleh OpenStreetMap, Google Maps, dan lainnya):\n",
    "# admin_gdf = admin_gdf.to_crs(projected_crs)\n",
    "# Hitung titik tengah dan konversi ke lon-lat\n",
    "admin_gdf['centroid_latitude'] = admin_gdf['geometry'].centroid.y\n",
    "admin_gdf['centroid_longitude'] = admin_gdf['geometry'].centroid.x\n",
    "admin_gdf_per_distrik = admin_gdf.dissolve(by='Distrik').reset_index()"
   ]
  },
  {
   "cell_type": "code",
   "execution_count": 20,
   "metadata": {},
   "outputs": [],
   "source": [
    "# sagu\n",
    "sagu_gdf = gpd.read_file('../data/SHP/Daerah_Sagu.shp')\n",
    "# projected_crs = 'EPSG:3857' #Untuk Web Mercator (digunakan oleh OpenStreetMap, Google Maps, dan lainnya):\n",
    "# sagu_gdf = sagu_gdf.to_crs(projected_crs)\n",
    "sagu_gdf['centroid_latitude'] = sagu_gdf['geometry'].centroid.y\n",
    "sagu_gdf['centroid_longitude'] = sagu_gdf['geometry'].centroid.x\n",
    "# sagu_gdf = sagu_gdf.dissolve(by='Penggunaan').reset_index()"
   ]
  },
  {
   "cell_type": "markdown",
   "metadata": {},
   "source": [
    "# Plotly"
   ]
  },
  {
   "cell_type": "code",
   "execution_count": 21,
   "metadata": {},
   "outputs": [],
   "source": [
    "# # hitung titik tengah peta\n",
    "# titik_titik=admin_gdf['geometry'].centroid.to_list()\n",
    "# multi_point = MultiPoint(titik_titik)\n",
    "# titik_tengah = multi_point.centroid\n",
    "# # tampilkan hasil\n",
    "# fig = px.choropleth_mapbox(\n",
    "#     admin_gdf,\n",
    "#     locations=admin_gdf.index,\n",
    "#     geojson=admin_gdf.geometry,\n",
    "#     color=\"Distrik\",\n",
    "#     hover_name=\"Kampung\",\n",
    "#     hover_data=['Provinsi', 'Kabupaten', 'Distrik', 'Kampung', 'Sumber'],\n",
    "#     mapbox_style=\"open-street-map\",\n",
    "#     center={\"lat\": titik_tengah.y, \"lon\": titik_tengah.x},\n",
    "#     zoom=10.8,\n",
    "#     opacity=0.2,\n",
    "# )\n",
    "\n",
    "# # Adjust layout\n",
    "# fig.update_layout(margin={\"r\": 0, \"t\": 0, \"l\": 0, \"b\": 0})\n",
    "# fig.write_html('../map-html/map_plotly.html')"
   ]
  },
  {
   "cell_type": "markdown",
   "metadata": {},
   "source": [
    "# Folium"
   ]
  },
  {
   "cell_type": "code",
   "execution_count": 22,
   "metadata": {},
   "outputs": [
    {
     "name": "stderr",
     "output_type": "stream",
     "text": [
      "/var/folders/b9/v73gyxys1djbgjy3c8c3cfwm0000gn/T/ipykernel_55075/2841927141.py:2: UserWarning: Geometry is in a geographic CRS. Results from 'centroid' are likely incorrect. Use 'GeoSeries.to_crs()' to re-project geometries to a projected CRS before this operation.\n",
      "\n",
      "  titik_titik = admin_gdf['geometry'].centroid.to_list()\n"
     ]
    },
    {
     "data": {
      "text/plain": [
       "<folium.map.LayerControl at 0x29e21a5f0>"
      ]
     },
     "execution_count": 22,
     "metadata": {},
     "output_type": "execute_result"
    }
   ],
   "source": [
    "# Ambil titik-titik dari kolom 'geometry'\n",
    "titik_titik = admin_gdf['geometry'].centroid.to_list()\n",
    "multi_point = MultiPoint(titik_titik)\n",
    "titik_tengah = multi_point.centroid\n",
    "\n",
    "# Function to generate a random color\n",
    "def random_color():\n",
    "    return '#{:06x}'.format(random.randint(0, 0xFFFFFF))\n",
    "\n",
    "# Create a dictionary mapping each KECEMATAN to a random color\n",
    "unique_distrik = admin_gdf['Distrik'].unique()\n",
    "color_dict = {distrik: random_color() for distrik in unique_distrik}\n",
    "\n",
    "# Buat peta folium\n",
    "m = folium.Map(location=[titik_tengah.y, titik_tengah.x], zoom_start=9, tiles='openstreetmap')\n",
    "\n",
    "# Tambahkan GeoJSON ke peta folium\n",
    "folium.GeoJson(\n",
    "    admin_gdf_per_distrik,\n",
    "    name='Batas Administrasi Distrik',\n",
    "    style_function = lambda feature: {\n",
    "        'fillColor': color_dict[feature['properties']['Distrik']],\n",
    "        'color': 'black',\n",
    "        'weight': 0.3,\n",
    "        'lineJoin': 'round',\n",
    "    },\n",
    "    # highlight_function=lambda feature: {\n",
    "    #     \"color\": \"#0c7e54\",\n",
    "    #     'weight': 3,\n",
    "    # },\n",
    "    smooth_factor=2,\n",
    "    ).add_to(m)\n",
    "\n",
    "# Tambahkan GeoJSON ke peta folium\n",
    "folium.GeoJson(\n",
    "    admin_gdf,\n",
    "    name='Batas Administrasi Kampung',\n",
    "    style_function = lambda feature: {\n",
    "        'fillColor': color_dict[feature['properties']['Distrik']],\n",
    "        'color': 'black',\n",
    "        'weight': 0.5,\n",
    "        'lineJoin': 'round',\n",
    "        'dashArray': '5, 5',\n",
    "    },\n",
    "    highlight_function=lambda feature: {\n",
    "        \"color\": \"#0c7e54\",\n",
    "        'weight': 3,\n",
    "        'dashArray': None,  # Set 'dashArray' menjadi None untuk garis lurus saat di-highlight\n",
    "    },\n",
    "    # tooltip=folium.GeoJsonTooltip(\n",
    "    #     fields=['Kampung', 'Distrik', 'Kabupaten', 'Provinsi', 'Sumber'],\n",
    "    #     sticky=False,\n",
    "    # ),\n",
    "    popup=folium.GeoJsonPopup(\n",
    "        fields=['Kampung', 'Distrik', 'Kabupaten', 'Provinsi', 'Sumber'],\n",
    "        aliases=['Kampung', 'Distrik', 'Kabupaten', 'Provinsi', 'Sumber'],\n",
    "        localize=True,\n",
    "        labels=True,\n",
    "    ),\n",
    "    smooth_factor=2,\n",
    "    ).add_to(m)\n",
    "\n",
    "\n",
    "titik_group = folium.FeatureGroup(\"Titik Kampung\", show=True).add_to(m)\n",
    "# Tambahkan label kampung pada setiap shape\n",
    "for idx, row in admin_gdf.iterrows():\n",
    "    folium.Marker(\n",
    "        location=[row['geometry'].centroid.y, row['geometry'].centroid.x],\n",
    "        # tooltip=folium.Tooltip(  # Change Popup to Tooltip\n",
    "        #     f\"\"\"\n",
    "        #         <b>Kampung:</b> {row['Kampung']}<br>\n",
    "        #         <b>Distrik:</b> {row['Distrik']}<br>\n",
    "        #         <b>Kabupaten:</b> {row['Kabupaten']}<br>\n",
    "        #         <b>Provinsi:</b> {row['Provinsi']}<br>\n",
    "        #         <b>Sumber:</b> {row['Sumber']}<br>\n",
    "        #     \"\"\",\n",
    "        #     sticky=False\n",
    "        # ),\n",
    "        # icon=folium.Icon(color='blue', icon='info-sign')\n",
    "        icon=folium.DivIcon(html=f\"\"\"<div style=\"font-size: 10pt; color: black\">{row['Kampung']}</div>\"\"\"),\n",
    "    ).add_to(titik_group)\n",
    "\n",
    "titik_distrik_group = folium.FeatureGroup(\"Titik Distrik\", show=True).add_to(m)\n",
    "# Tambahkan label kampung pada setiap shape\n",
    "for idx, row in admin_gdf_per_distrik.iterrows():\n",
    "    folium.Marker(\n",
    "        location=[row['geometry'].centroid.y, row['geometry'].centroid.x],\n",
    "        # tooltip=folium.Tooltip(  # Change Popup to Tooltip\n",
    "        #     f\"\"\"\n",
    "        #         <b>Distrik:</b> {row['Distrik']}<br>\n",
    "        #         <b>Kabupaten:</b> {row['Kabupaten']}<br>\n",
    "        #         <b>Provinsi:</b> {row['Provinsi']}<br>\n",
    "        #         <b>Sumber:</b> {row['Sumber']}<br>\n",
    "        #         <b>Color:</b> {color_dict[row['Distrik']]}<br>\n",
    "        #     \"\"\",\n",
    "        #     sticky=False\n",
    "        # ),\n",
    "        icon=folium.DivIcon(html=f\"\"\"<div style=\"font-size: 14pt; font-weight:bold; text-shadow: 1px 1px 1px #ffffff; color: {color_dict[row['Distrik']]}\">{row['Distrik']}</div>\"\"\"),\n",
    "    ).add_to(titik_distrik_group)\n",
    "\n",
    "stripes = plugins.pattern.StripePattern(angle=-45).add_to(m)\n",
    "folium.GeoJson(\n",
    "    sagu_gdf,\n",
    "    name='Area Hutan Sagu',\n",
    "    style_function=lambda feature: {\n",
    "        \"fillColor\": \"#009b00\",\n",
    "        \"color\": \"#008200\",\n",
    "        \"fillPattern\": stripes,\n",
    "        \"weight\": 0.5,\n",
    "        \"fillOpacity\": 0.7,\n",
    "        'lineJoin': 'round',\n",
    "    },\n",
    "    highlight_function=lambda feature: {\n",
    "        \"fillColor\": \"#0c7e54\",\n",
    "        \"fillPattern\": None,\n",
    "        # 'weight': 3,\n",
    "    },\n",
    "    tooltip=folium.Tooltip(  # Change Popup to Tooltip\n",
    "        f\"\"\"\n",
    "            Area hutan sagu\n",
    "        \"\"\",\n",
    "        sticky=True\n",
    "    ),\n",
    "    # popup=folium.GeoJsonPopup(\n",
    "    #     fields=['Penggunaan'],\n",
    "    #     aliases=['Penggunaan'],\n",
    "    #     localize=True,\n",
    "    #     labels=True,\n",
    "    # ),\n",
    "    smooth_factor=2,\n",
    "    ).add_to(m)\n",
    "\n",
    "# legend_group = folium.FeatureGroup(\"Legend\").add_to(m)\n",
    "# Buat HTML custom untuk legenda berdasarkan color_dict\n",
    "# legend_html = \"\"\"\n",
    "# <div style=\"position: fixed; \n",
    "#              bottom: 30px; right: 10px; width: 200px; height: auto; \n",
    "#              border:2px solid grey; z-index:9999; font-size:14px;\n",
    "#              background-color:white;\n",
    "#              \">&nbsp; Distrik <br>\n",
    "# \"\"\"\n",
    "# for key, value in color_dict.items():\n",
    "#     legend_html += f'&nbsp; {key} &nbsp; <i class=\"fa fa-square\" style=\"color:{value}\"></i><br>'\n",
    "# legend_html += \"</div>\"\n",
    "# # Tambahkan HTML custom sebagai legenda ke peta\n",
    "# m.get_root().html.add_child(folium.Element(legend_html))\n",
    "\n",
    "plugins.Fullscreen(\n",
    "    position=\"topright\",\n",
    "    title=\"Expand me\",\n",
    "    title_cancel=\"Exit me\",\n",
    "    force_separate_button=True,\n",
    ").add_to(m)\n",
    "folium.TileLayer(\"cartodbpositron\").add_to(m)\n",
    "folium.TileLayer(\"esri-worldimagery\").add_to(m)\n",
    "folium.LayerControl().add_to(m)"
   ]
  },
  {
   "cell_type": "code",
   "execution_count": 23,
   "metadata": {},
   "outputs": [],
   "source": [
    "# Tampilkan peta\n",
    "m.save('../map-html/map_folium.html')\n",
    "# m"
   ]
  },
  {
   "cell_type": "code",
   "execution_count": 24,
   "metadata": {},
   "outputs": [
    {
     "data": {
      "text/plain": [
       "{'Aranday': '#9c6c0c',\n",
       " 'Aroba': '#e15533',\n",
       " 'Babo': '#9c558c',\n",
       " 'Bintuni': '#752517',\n",
       " 'Biscoop': '#4208e7',\n",
       " 'Dataran Beimes': '#5fe70c',\n",
       " 'Fafurwar': '#c88e51',\n",
       " 'Kaitaro': '#87b9cf',\n",
       " 'Kamundan': '#8f3147',\n",
       " 'Kuri': '#1ccbbe',\n",
       " 'Manimeri': '#294e81',\n",
       " 'Masyeta': '#a393b1',\n",
       " 'Merdey': '#26994d',\n",
       " 'Meyado': '#436039',\n",
       " 'Moskona Barat': '#46b2d5',\n",
       " 'Moskona Selatan': '#d7c563',\n",
       " 'Moskona Timur': '#25a1e2',\n",
       " 'Moskona Utara': '#a66457',\n",
       " 'Sumuri': '#7d6873',\n",
       " 'Tembuni': '#0df264',\n",
       " 'Tomu': '#4f4dc5',\n",
       " 'Tuhiba': '#3cbaff',\n",
       " 'Wamesa': '#9bff56',\n",
       " 'Weriagar': '#51b02a'}"
      ]
     },
     "execution_count": 24,
     "metadata": {},
     "output_type": "execute_result"
    }
   ],
   "source": [
    "color_dict"
   ]
  },
  {
   "cell_type": "code",
   "execution_count": null,
   "metadata": {},
   "outputs": [],
   "source": []
  },
  {
   "cell_type": "code",
   "execution_count": null,
   "metadata": {},
   "outputs": [],
   "source": []
  }
 ],
 "metadata": {
  "kernelspec": {
   "display_name": "venv_panah_papua",
   "language": "python",
   "name": "python3"
  },
  "language_info": {
   "codemirror_mode": {
    "name": "ipython",
    "version": 3
   },
   "file_extension": ".py",
   "mimetype": "text/x-python",
   "name": "python",
   "nbconvert_exporter": "python",
   "pygments_lexer": "ipython3",
   "version": "3.10.9"
  }
 },
 "nbformat": 4,
 "nbformat_minor": 2
}
