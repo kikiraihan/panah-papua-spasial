{
 "cells": [
  {
   "cell_type": "code",
   "execution_count": 1,
   "metadata": {},
   "outputs": [],
   "source": [
    "import json\n",
    "import geopandas as gpd\n",
    "from shapely.geometry import MultiPoint\n",
    "import plotly.express as px\n",
    "import random\n",
    "import folium\n",
    "import folium.plugins as plugins\n",
    "from shapely.geometry import MultiPoint\n",
    "import branca.colormap as cm"
   ]
  },
  {
   "cell_type": "code",
   "execution_count": 2,
   "metadata": {},
   "outputs": [
    {
     "name": "stderr",
     "output_type": "stream",
     "text": [
      "/var/folders/b9/v73gyxys1djbgjy3c8c3cfwm0000gn/T/ipykernel_77119/73134793.py:12: UserWarning: Geometry is in a geographic CRS. Results from 'centroid' are likely incorrect. Use 'GeoSeries.to_crs()' to re-project geometries to a projected CRS before this operation.\n",
      "\n",
      "  topografi_gdf['centroid_latitude'] = topografi_gdf['geometry'].centroid.y\n",
      "/var/folders/b9/v73gyxys1djbgjy3c8c3cfwm0000gn/T/ipykernel_77119/73134793.py:13: UserWarning: Geometry is in a geographic CRS. Results from 'centroid' are likely incorrect. Use 'GeoSeries.to_crs()' to re-project geometries to a projected CRS before this operation.\n",
      "\n",
      "  topografi_gdf['centroid_longitude'] = topografi_gdf['geometry'].centroid.x\n"
     ]
    },
    {
     "data": {
      "text/html": [
       "<div>\n",
       "<style scoped>\n",
       "    .dataframe tbody tr th:only-of-type {\n",
       "        vertical-align: middle;\n",
       "    }\n",
       "\n",
       "    .dataframe tbody tr th {\n",
       "        vertical-align: top;\n",
       "    }\n",
       "\n",
       "    .dataframe thead th {\n",
       "        text-align: right;\n",
       "    }\n",
       "</style>\n",
       "<table border=\"1\" class=\"dataframe\">\n",
       "  <thead>\n",
       "    <tr style=\"text-align: right;\">\n",
       "      <th></th>\n",
       "      <th>Dataran</th>\n",
       "      <th>geometry</th>\n",
       "      <th>Topografi</th>\n",
       "      <th>centroid_latitude</th>\n",
       "      <th>centroid_longitude</th>\n",
       "    </tr>\n",
       "  </thead>\n",
       "  <tbody>\n",
       "    <tr>\n",
       "      <th>0</th>\n",
       "      <td>Dataran Rendah</td>\n",
       "      <td>MULTIPOLYGON Z (((132.62091 -2.17591 0.00000, ...</td>\n",
       "      <td>0 - 10</td>\n",
       "      <td>-2.308229</td>\n",
       "      <td>133.386423</td>\n",
       "    </tr>\n",
       "    <tr>\n",
       "      <th>1</th>\n",
       "      <td>Dataran Tinggi</td>\n",
       "      <td>MULTIPOLYGON Z (((133.04120 -1.65652 0.00000, ...</td>\n",
       "      <td>0 - 10</td>\n",
       "      <td>-1.500951</td>\n",
       "      <td>133.625111</td>\n",
       "    </tr>\n",
       "  </tbody>\n",
       "</table>\n",
       "</div>"
      ],
      "text/plain": [
       "          Dataran                                           geometry  \\\n",
       "0  Dataran Rendah  MULTIPOLYGON Z (((132.62091 -2.17591 0.00000, ...   \n",
       "1  Dataran Tinggi  MULTIPOLYGON Z (((133.04120 -1.65652 0.00000, ...   \n",
       "\n",
       "  Topografi  centroid_latitude  centroid_longitude  \n",
       "0    0 - 10          -2.308229          133.386423  \n",
       "1    0 - 10          -1.500951          133.625111  "
      ]
     },
     "execution_count": 2,
     "metadata": {},
     "output_type": "execute_result"
    }
   ],
   "source": [
    "# admin dasar\n",
    "# admin_gdf = gpd.read_file('../data/SHP/Administrasi.shp')\n",
    "# admin_gdf['centroid_latitude'] = admin_gdf['geometry'].centroid.y\n",
    "# admin_gdf['centroid_longitude'] = admin_gdf['geometry'].centroid.x\n",
    "# bintuni_dasar_gdf = admin_gdf.dissolve(by='Kabupaten').reset_index()\n",
    "# bintuni_dasar_gdf\n",
    "\n",
    "# sagu\n",
    "topografi_gdf = gpd.read_file('../data/SHP/Topografi.shp')\n",
    "# projected_crs = 'EPSG:3857' #Untuk Web Mercator (digunakan oleh OpenStreetMap, Google Maps, dan lainnya):\n",
    "# sagu_gdf = sagu_gdf.to_crs(projected_crs)\n",
    "topografi_gdf['centroid_latitude'] = topografi_gdf['geometry'].centroid.y\n",
    "topografi_gdf['centroid_longitude'] = topografi_gdf['geometry'].centroid.x\n",
    "topografi_gdf = topografi_gdf.dissolve(by='Dataran').reset_index()\n",
    "topografi_gdf"
   ]
  },
  {
   "cell_type": "code",
   "execution_count": 4,
   "metadata": {},
   "outputs": [
    {
     "data": {
      "text/plain": [
       "<folium.map.LayerControl at 0x2925cac80>"
      ]
     },
     "execution_count": 4,
     "metadata": {},
     "output_type": "execute_result"
    }
   ],
   "source": [
    "m = folium.Map([-2.033975531897878, 133.346063060061], zoom_start=9)\n",
    "\n",
    "folium.GeoJson(\n",
    "    topografi_gdf,\n",
    "    name=\"Topografi Rendah\",\n",
    "    style_function=lambda feature: {\n",
    "        \"fillColor\": colormap_rendah(feature['properties']['batas_awal']),\n",
    "        \"color\": colormap_rendah(feature['properties']['batas_awal']),\n",
    "        \"weight\": 0.5,\n",
    "        \"dashArray\": \"5, 5\",\n",
    "        \"fillOpacity\": 1,\n",
    "    },\n",
    "    # smooth_factor=2,\n",
    ").add_to(m)\n",
    "\n",
    "\n",
    "folium.GeoJson(\n",
    "    tp_tinggi,\n",
    "    name=\"Topografi Tinggi\",\n",
    "    style_function=lambda feature: {\n",
    "        \"fillColor\": colormap_tinggi(feature['properties']['batas_awal']),\n",
    "        \"color\": colormap_tinggi(feature['properties']['batas_awal']),\n",
    "        \"weight\": 0.5,\n",
    "        \"dashArray\": \"5, 5\",\n",
    "        \"fillOpacity\": 1,\n",
    "    },\n",
    "    # smooth_factor=2,\n",
    ").add_to(m)\n",
    "\n",
    "# colormap_legend.add_to(m)\n",
    "colormap_rendah.add_to(m)\n",
    "colormap_tinggi.add_to(m)\n",
    "plugins.Fullscreen(\n",
    "    position=\"topright\",\n",
    "    title=\"Expand me\",\n",
    "    title_cancel=\"Exit me\",\n",
    "    force_separate_button=True,\n",
    ").add_to(m)\n",
    "folium.TileLayer(\"esri-worldimagery\").add_to(m)\n",
    "folium.TileLayer(\"cartodbpositron\").add_to(m)\n",
    "folium.LayerControl().add_to(m)"
   ]
  },
  {
   "cell_type": "code",
   "execution_count": 5,
   "metadata": {},
   "outputs": [],
   "source": [
    "m.save('../map-html/topografi.html')"
   ]
  },
  {
   "cell_type": "code",
   "execution_count": null,
   "metadata": {},
   "outputs": [],
   "source": []
  }
 ],
 "metadata": {
  "kernelspec": {
   "display_name": "venv_panah_papua",
   "language": "python",
   "name": "python3"
  },
  "language_info": {
   "codemirror_mode": {
    "name": "ipython",
    "version": 3
   },
   "file_extension": ".py",
   "mimetype": "text/x-python",
   "name": "python",
   "nbconvert_exporter": "python",
   "pygments_lexer": "ipython3",
   "version": "3.10.9"
  }
 },
 "nbformat": 4,
 "nbformat_minor": 2
}
